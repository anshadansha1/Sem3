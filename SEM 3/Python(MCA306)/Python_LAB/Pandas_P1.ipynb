{
 "cells": [
  {
   "cell_type": "code",
   "execution_count": 7,
   "metadata": {},
   "outputs": [
    {
     "name": "stdout",
     "output_type": "stream",
     "text": [
      "Requirement already satisfied: numpy in c:\\users\\marsh\\appdata\\local\\programs\\python\\python312-32\\lib\\site-packages (2.0.1)\n"
     ]
    },
    {
     "name": "stderr",
     "output_type": "stream",
     "text": [
      "\n",
      "[notice] A new release of pip is available: 24.1.2 -> 24.2\n",
      "[notice] To update, run: python.exe -m pip install --upgrade pip\n"
     ]
    },
    {
     "name": "stdout",
     "output_type": "stream",
     "text": [
      "Collecting pandas\n",
      "  Using cached pandas-2.2.2.tar.gz (4.4 MB)\n",
      "  Installing build dependencies: started\n",
      "  Installing build dependencies: finished with status 'done'\n",
      "  Getting requirements to build wheel: started\n",
      "  Getting requirements to build wheel: finished with status 'done'\n",
      "  Installing backend dependencies: started\n",
      "  Installing backend dependencies: finished with status 'done'\n",
      "  Preparing metadata (pyproject.toml): started\n",
      "  Preparing metadata (pyproject.toml): finished with status 'error'\n"
     ]
    },
    {
     "name": "stderr",
     "output_type": "stream",
     "text": [
      "  error: subprocess-exited-with-error\n",
      "  \n",
      "  × Preparing metadata (pyproject.toml) did not run successfully.\n",
      "  │ exit code: 1\n",
      "  ╰─> [12 lines of output]\n",
      "      + meson setup C:\\Users\\marsh\\AppData\\Local\\Temp\\pip-install-zfx1tamz\\pandas_14f670110751416983b92a27dbea3ea7 C:\\Users\\marsh\\AppData\\Local\\Temp\\pip-install-zfx1tamz\\pandas_14f670110751416983b92a27dbea3ea7\\.mesonpy-466u3dq2\\build -Dbuildtype=release -Db_ndebug=if-release -Db_vscrt=md --vsenv --native-file=C:\\Users\\marsh\\AppData\\Local\\Temp\\pip-install-zfx1tamz\\pandas_14f670110751416983b92a27dbea3ea7\\.mesonpy-466u3dq2\\build\\meson-python-native-file.ini\n",
      "      The Meson build system\n",
      "      Version: 1.2.1\n",
      "      Source dir: C:\\Users\\marsh\\AppData\\Local\\Temp\\pip-install-zfx1tamz\\pandas_14f670110751416983b92a27dbea3ea7\n",
      "      Build dir: C:\\Users\\marsh\\AppData\\Local\\Temp\\pip-install-zfx1tamz\\pandas_14f670110751416983b92a27dbea3ea7\\.mesonpy-466u3dq2\\build\n",
      "      Build type: native build\n",
      "      Project name: pandas\n",
      "      Project version: 2.2.2\n",
      "      \n",
      "      ..\\..\\meson.build:2:0: ERROR: Could not parse vswhere.exe output\n",
      "      \n",
      "      A full log can be found at C:\\Users\\marsh\\AppData\\Local\\Temp\\pip-install-zfx1tamz\\pandas_14f670110751416983b92a27dbea3ea7\\.mesonpy-466u3dq2\\build\\meson-logs\\meson-log.txt\n",
      "      [end of output]\n",
      "  \n",
      "  note: This error originates from a subprocess, and is likely not a problem with pip.\n",
      "error: metadata-generation-failed\n",
      "\n",
      "× Encountered error while generating package metadata.\n",
      "╰─> See above for output.\n",
      "\n",
      "note: This is an issue with the package mentioned above, not pip.\n",
      "hint: See above for details.\n",
      "\n",
      "[notice] A new release of pip is available: 24.1.2 -> 24.2\n",
      "[notice] To update, run: python.exe -m pip install --upgrade pip\n"
     ]
    },
    {
     "ename": "ModuleNotFoundError",
     "evalue": "No module named 'pandas'",
     "output_type": "error",
     "traceback": [
      "\u001b[1;31m---------------------------------------------------------------------------\u001b[0m",
      "\u001b[1;31mModuleNotFoundError\u001b[0m                       Traceback (most recent call last)",
      "Cell \u001b[1;32mIn[7], line 5\u001b[0m\n\u001b[0;32m      2\u001b[0m get_ipython()\u001b[38;5;241m.\u001b[39msystem(\u001b[38;5;124m'\u001b[39m\u001b[38;5;124m pip install pandas\u001b[39m\u001b[38;5;124m'\u001b[39m)\n\u001b[0;32m      4\u001b[0m \u001b[38;5;28;01mimport\u001b[39;00m \u001b[38;5;21;01mnumpy\u001b[39;00m \u001b[38;5;28;01mas\u001b[39;00m \u001b[38;5;21;01mnp\u001b[39;00m\n\u001b[1;32m----> 5\u001b[0m \u001b[38;5;28;01mimport\u001b[39;00m \u001b[38;5;21;01mpandas\u001b[39;00m \u001b[38;5;28;01mas\u001b[39;00m \u001b[38;5;21;01mpd\u001b[39;00m\n",
      "\u001b[1;31mModuleNotFoundError\u001b[0m: No module named 'pandas'"
     ]
    }
   ],
   "source": [
    "! pip install numpy\n",
    "\n"
   ]
  },
  {
   "cell_type": "code",
   "execution_count": 9,
   "metadata": {},
   "outputs": [
    {
     "name": "stdout",
     "output_type": "stream",
     "text": [
      "Collecting pandas\n",
      "  Using cached pandas-2.2.2.tar.gz (4.4 MB)\n",
      "  Installing build dependencies: started\n",
      "  Installing build dependencies: finished with status 'done'\n",
      "  Getting requirements to build wheel: started\n",
      "  Getting requirements to build wheel: finished with status 'done'\n",
      "  Installing backend dependencies: started\n",
      "  Installing backend dependencies: finished with status 'done'\n",
      "  Preparing metadata (pyproject.toml): started\n",
      "  Preparing metadata (pyproject.toml): finished with status 'error'\n"
     ]
    },
    {
     "name": "stderr",
     "output_type": "stream",
     "text": [
      "  error: subprocess-exited-with-error\n",
      "  \n",
      "  × Preparing metadata (pyproject.toml) did not run successfully.\n",
      "  │ exit code: 1\n",
      "  ╰─> [12 lines of output]\n",
      "      + meson setup C:\\Users\\marsh\\AppData\\Local\\Temp\\pip-install-abffq8p0\\pandas_5220f67f06a140f5a9fc3ca94742b09f C:\\Users\\marsh\\AppData\\Local\\Temp\\pip-install-abffq8p0\\pandas_5220f67f06a140f5a9fc3ca94742b09f\\.mesonpy-40s0ao6p\\build -Dbuildtype=release -Db_ndebug=if-release -Db_vscrt=md --vsenv --native-file=C:\\Users\\marsh\\AppData\\Local\\Temp\\pip-install-abffq8p0\\pandas_5220f67f06a140f5a9fc3ca94742b09f\\.mesonpy-40s0ao6p\\build\\meson-python-native-file.ini\n",
      "      The Meson build system\n",
      "      Version: 1.2.1\n",
      "      Source dir: C:\\Users\\marsh\\AppData\\Local\\Temp\\pip-install-abffq8p0\\pandas_5220f67f06a140f5a9fc3ca94742b09f\n",
      "      Build dir: C:\\Users\\marsh\\AppData\\Local\\Temp\\pip-install-abffq8p0\\pandas_5220f67f06a140f5a9fc3ca94742b09f\\.mesonpy-40s0ao6p\\build\n",
      "      Build type: native build\n",
      "      Project name: pandas\n",
      "      Project version: 2.2.2\n",
      "      \n",
      "      ..\\..\\meson.build:2:0: ERROR: Could not parse vswhere.exe output\n",
      "      \n",
      "      A full log can be found at C:\\Users\\marsh\\AppData\\Local\\Temp\\pip-install-abffq8p0\\pandas_5220f67f06a140f5a9fc3ca94742b09f\\.mesonpy-40s0ao6p\\build\\meson-logs\\meson-log.txt\n",
      "      [end of output]\n",
      "  \n",
      "  note: This error originates from a subprocess, and is likely not a problem with pip.\n",
      "error: metadata-generation-failed\n",
      "\n",
      "× Encountered error while generating package metadata.\n",
      "╰─> See above for output.\n",
      "\n",
      "note: This is an issue with the package mentioned above, not pip.\n",
      "hint: See above for details.\n",
      "\n",
      "[notice] A new release of pip is available: 24.1.2 -> 24.2\n",
      "[notice] To update, run: python.exe -m pip install --upgrade pip\n"
     ]
    }
   ],
   "source": [
    "! pip install pandas"
   ]
  },
  {
   "cell_type": "code",
   "execution_count": 10,
   "metadata": {},
   "outputs": [
    {
     "ename": "ModuleNotFoundError",
     "evalue": "No module named 'pandas'",
     "output_type": "error",
     "traceback": [
      "\u001b[1;31m---------------------------------------------------------------------------\u001b[0m",
      "\u001b[1;31mModuleNotFoundError\u001b[0m                       Traceback (most recent call last)",
      "Cell \u001b[1;32mIn[10], line 2\u001b[0m\n\u001b[0;32m      1\u001b[0m \u001b[38;5;28;01mimport\u001b[39;00m \u001b[38;5;21;01mnumpy\u001b[39;00m \u001b[38;5;28;01mas\u001b[39;00m \u001b[38;5;21;01mnp\u001b[39;00m\n\u001b[1;32m----> 2\u001b[0m \u001b[38;5;28;01mimport\u001b[39;00m \u001b[38;5;21;01mpandas\u001b[39;00m \u001b[38;5;28;01mas\u001b[39;00m \u001b[38;5;21;01mpd\u001b[39;00m\n",
      "\u001b[1;31mModuleNotFoundError\u001b[0m: No module named 'pandas'"
     ]
    }
   ],
   "source": [
    "import pandas as pd\n",
    "import numpy as np\n",
    "\n",
    "\n"
   ]
  }
 ],
 "metadata": {
  "kernelspec": {
   "display_name": ".venv",
   "language": "python",
   "name": "python3"
  },
  "language_info": {
   "codemirror_mode": {
    "name": "ipython",
    "version": 3
   },
   "file_extension": ".py",
   "mimetype": "text/x-python",
   "name": "python",
   "nbconvert_exporter": "python",
   "pygments_lexer": "ipython3",
   "version": "3.12.3"
  }
 },
 "nbformat": 4,
 "nbformat_minor": 2
}
